{
  "cells": [
    {
      "attachments": {},
      "cell_type": "markdown",
      "metadata": {
        "id": "rloJD2luQnuQ"
      },
      "source": [
        "# Лабораторная работа"
      ]
    },
    {
      "attachments": {},
      "cell_type": "markdown",
      "metadata": {
        "id": "xIZ02xiML9p_"
      },
      "source": [
        "Баллы за секции:\n",
        "- *Задание 1* - 10 баллов\n",
        "- *Задание 2* - 20 баллов\n",
        "- *Задание 3* - 30 баллов\n",
        "- **Итого** - 60 баллов\n",
        "\n",
        "Оценка за лабу $ = \\frac{score}{6}$"
      ]
    },
    {
      "attachments": {},
      "cell_type": "markdown",
      "metadata": {
        "id": "OEDe7x8YRID0"
      },
      "source": [
        "## Внимание! Attention! Achtung!"
      ]
    },
    {
      "attachments": {},
      "cell_type": "markdown",
      "metadata": {
        "id": "ZEmKA-7NR1Y9"
      },
      "source": [
        "**Данная лабораторная работа является блокирующей**, т.е. если лабораторная работа не выполнена, то оценка за курс - неуд.\n",
        "\n",
        "Лабораторная работа считается выполненной, если **за каждое из заданий получено не менее 2 баллов**."
      ]
    },
    {
      "attachments": {},
      "cell_type": "markdown",
      "metadata": {
        "id": "N1ZbZ8dkR5q_"
      },
      "source": [
        "## Формат сдачи лабораторной работы"
      ]
    },
    {
      "attachments": {},
      "cell_type": "markdown",
      "metadata": {
        "id": "tEwx7LLQR-h8"
      },
      "source": [
        "Данная лабораторная работа сдается так же, как и проект - заполняете данный ноутбук, отправляете его через GitHub с указанием проверяющего."
      ]
    },
    {
      "attachments": {},
      "cell_type": "markdown",
      "metadata": {
        "id": "qKwaNCJKj7b8"
      },
      "source": [
        "**Ассистенты не будут запускать ячейки кода, а смотреть на выведенный результат и код. Если ячейка кода не запущена - балл не ставится, даже при правильно написанном коде.**\n",
        "\n",
        "***(Комментарии что курс по Python легче чем по C++ учтены)***"
      ]
    },
    {
      "attachments": {},
      "cell_type": "markdown",
      "metadata": {
        "id": "hlUYK7MDRGye"
      },
      "source": [
        ">**Примечание**\n",
        ">\n",
        ">Данные задания вдохновлены предметом \"Введение в анализ данных\" 2 курса, по итогу которого идёт отбор на DS-поток. Если вы видите себя в смежных областях, советуем выполнить данную лабораторку по максимуму."
      ]
    },
    {
      "cell_type": "code",
      "execution_count": 266,
      "metadata": {
        "id": "1qzEqvohoZfB"
      },
      "outputs": [],
      "source": [
        "# Всё необходимое для выполнения данной лабораторной работы!\n",
        "import requests\n",
        "from time import sleep\n",
        "\n",
        "import numpy as np\n",
        "import pandas as pd\n",
        "import matplotlib.pyplot as plt\n",
        "import seaborn as sns"
      ]
    },
    {
      "attachments": {},
      "cell_type": "markdown",
      "metadata": {
        "id": "rB_FYHU2k8w-"
      },
      "source": [
        "## Задание 1. Парсинг - 10 баллов"
      ]
    },
    {
      "attachments": {},
      "cell_type": "markdown",
      "metadata": {
        "id": "F0gr5cjaoQJy"
      },
      "source": [
        "В этом задании Вам предстоит работать с API сайта <a target=\"_blank\" href=\"hh.ru\">hh.ru</a>. Документация доступна по <a target=\"_blank\" href=\"https://github.com/hhru/api/blob/master/docs/vacancies.md#search\">ссылке</a>."
      ]
    },
    {
      "attachments": {},
      "cell_type": "markdown",
      "metadata": {
        "id": "v8iCQYk7TNvK"
      },
      "source": [
        "<b><font color=\"red\">Внимание!</font> При работе с API не забывайте делать паузы между запросами, иначе вас забанят. Просрочка дедлайна по этой причине не принимается!</b>"
      ]
    },
    {
      "attachments": {},
      "cell_type": "markdown",
      "metadata": {
        "id": "-HAm80rqRqAZ"
      },
      "source": [
        "**Задача:**\n",
        "1. выбрать 5 интересующих вас профессий (не смежных, т.е. Аналатик и Data Engineer не считается корректным)\n",
        "2. затем получить доступные по данным профессиям вакансии в Москве и выделить их физические координаты\n",
        "3. нанести полученные координаты на карту местоположения компаний"
      ]
    },
    {
      "attachments": {},
      "cell_type": "markdown",
      "metadata": {
        "id": "H0GhQJvipXYj"
      },
      "source": [
        "*Пример запроса для профессии:*"
      ]
    },
    {
      "cell_type": "code",
      "execution_count": 267,
      "metadata": {
        "id": "aZLGoS_DpsXI"
      },
      "outputs": [],
      "source": [
        "URL = 'https://api.hh.ru/vacancies'\n",
        "\n",
        "params = {\n",
        "    'text': \"Физик-ядерщик\",\n",
        "    'area': 1,\n",
        "    'page': 0,\n",
        "    'per_page': 10\n",
        "}\n",
        "\n",
        "data = requests.get(URL, params).json()"
      ]
    },
    {
      "attachments": {},
      "cell_type": "markdown",
      "metadata": {
        "id": "yHQtIBRQp91_"
      },
      "source": [
        "Если Ваш запрос прошел успешно, то вы получите следующие ключи (значения данных ключей вы найдете по ссылке на документацию):"
      ]
    },
    {
      "cell_type": "code",
      "execution_count": 268,
      "metadata": {
        "colab": {
          "base_uri": "https://localhost:8080/"
        },
        "id": "DW6mxzggpvKw",
        "outputId": "a284ee47-486c-402a-fe26-88fa9677a98d"
      },
      "outputs": [
        {
          "data": {
            "text/plain": [
              "dict_keys(['items', 'found', 'pages', 'per_page', 'page', 'clusters', 'arguments', 'alternate_url'])"
            ]
          },
          "execution_count": 268,
          "metadata": {},
          "output_type": "execute_result"
        }
      ],
      "source": [
        "data.keys()"
      ]
    },
    {
      "attachments": {},
      "cell_type": "markdown",
      "metadata": {
        "id": "O-qAwsmrTAvQ"
      },
      "source": [
        ">**Примечание**\n",
        ">\n",
        ">В `data['pages']` будет хранится количество найденных страниц вакансий - для корректного сбора данных Вам нужно пробежать по **КАЖДОЙ** странице и сделать соотвествующие запросы."
      ]
    },
    {
      "attachments": {},
      "cell_type": "markdown",
      "metadata": {
        "id": "OEPOQVYxsMyN"
      },
      "source": [
        ">**Совет**\n",
        ">\n",
        ">Посмотрите что хранится в `items`!"
      ]
    },
    {
      "attachments": {},
      "cell_type": "markdown",
      "metadata": {
        "id": "JWvkFrh9qhkj"
      },
      "source": [
        "(1 балл) Выберете для нас 5 наиболее интересных специальностей и получите по ним имеющиеся вакансии:"
      ]
    },
    {
      "cell_type": "code",
      "execution_count": 269,
      "metadata": {
        "id": "_Nm-vyiBqugq"
      },
      "outputs": [
        {
          "data": {
            "text/html": [
              "<div>\n",
              "<style scoped>\n",
              "    .dataframe tbody tr th:only-of-type {\n",
              "        vertical-align: middle;\n",
              "    }\n",
              "\n",
              "    .dataframe tbody tr th {\n",
              "        vertical-align: top;\n",
              "    }\n",
              "\n",
              "    .dataframe thead th {\n",
              "        text-align: right;\n",
              "    }\n",
              "</style>\n",
              "<table border=\"1\" class=\"dataframe\">\n",
              "  <thead>\n",
              "    <tr style=\"text-align: right;\">\n",
              "      <th></th>\n",
              "      <th>id</th>\n",
              "      <th>premium</th>\n",
              "      <th>name</th>\n",
              "      <th>department</th>\n",
              "      <th>has_test</th>\n",
              "      <th>response_letter_required</th>\n",
              "      <th>area</th>\n",
              "      <th>salary</th>\n",
              "      <th>type</th>\n",
              "      <th>address</th>\n",
              "      <th>...</th>\n",
              "      <th>contacts</th>\n",
              "      <th>schedule</th>\n",
              "      <th>working_days</th>\n",
              "      <th>working_time_intervals</th>\n",
              "      <th>working_time_modes</th>\n",
              "      <th>accept_temporary</th>\n",
              "      <th>professional_roles</th>\n",
              "      <th>accept_incomplete_resumes</th>\n",
              "      <th>experience</th>\n",
              "      <th>employment</th>\n",
              "    </tr>\n",
              "  </thead>\n",
              "  <tbody>\n",
              "    <tr>\n",
              "      <th>0</th>\n",
              "      <td>80464980</td>\n",
              "      <td>False</td>\n",
              "      <td>Педагог по подготовке к школе (учитель младших...</td>\n",
              "      <td>None</td>\n",
              "      <td>False</td>\n",
              "      <td>False</td>\n",
              "      <td>{'id': '2034', 'name': 'Красногорск', 'url': '...</td>\n",
              "      <td>None</td>\n",
              "      <td>{'id': 'open', 'name': 'Открытая'}</td>\n",
              "      <td>{'city': 'Красногорск', 'street': 'Успенская у...</td>\n",
              "      <td>...</td>\n",
              "      <td>None</td>\n",
              "      <td>None</td>\n",
              "      <td>[]</td>\n",
              "      <td>[]</td>\n",
              "      <td>[]</td>\n",
              "      <td>False</td>\n",
              "      <td>[{'id': '132', 'name': 'Учитель, преподаватель...</td>\n",
              "      <td>False</td>\n",
              "      <td>{'id': 'between1And3', 'name': 'От 1 года до 3...</td>\n",
              "      <td>{'id': 'part', 'name': 'Частичная занятость'}</td>\n",
              "    </tr>\n",
              "    <tr>\n",
              "      <th>1</th>\n",
              "      <td>79739233</td>\n",
              "      <td>False</td>\n",
              "      <td>Преподаватель IT-дисциплин (младшая школа)</td>\n",
              "      <td>None</td>\n",
              "      <td>False</td>\n",
              "      <td>False</td>\n",
              "      <td>{'id': '1', 'name': 'Москва', 'url': 'https://...</td>\n",
              "      <td>{'from': None, 'to': 120000, 'currency': 'RUR'...</td>\n",
              "      <td>{'id': 'open', 'name': 'Открытая'}</td>\n",
              "      <td>None</td>\n",
              "      <td>...</td>\n",
              "      <td>None</td>\n",
              "      <td>None</td>\n",
              "      <td>[{'id': 'only_saturday_and_sunday', 'name': 'Р...</td>\n",
              "      <td>[{'id': 'from_four_to_six_hours_in_a_day', 'na...</td>\n",
              "      <td>[]</td>\n",
              "      <td>False</td>\n",
              "      <td>[{'id': '132', 'name': 'Учитель, преподаватель...</td>\n",
              "      <td>False</td>\n",
              "      <td>{'id': 'noExperience', 'name': 'Нет опыта'}</td>\n",
              "      <td>{'id': 'part', 'name': 'Частичная занятость'}</td>\n",
              "    </tr>\n",
              "    <tr>\n",
              "      <th>2</th>\n",
              "      <td>79111520</td>\n",
              "      <td>False</td>\n",
              "      <td>Преподаватель IT дисциплин (Мытищи, Пушкино, К...</td>\n",
              "      <td>None</td>\n",
              "      <td>False</td>\n",
              "      <td>False</td>\n",
              "      <td>{'id': '2041', 'name': 'Мытищи', 'url': 'https...</td>\n",
              "      <td>{'from': None, 'to': 120000, 'currency': 'RUR'...</td>\n",
              "      <td>{'id': 'open', 'name': 'Открытая'}</td>\n",
              "      <td>{'city': 'Мытищи', 'street': 'Юбилейная улица'...</td>\n",
              "      <td>...</td>\n",
              "      <td>None</td>\n",
              "      <td>None</td>\n",
              "      <td>[{'id': 'only_saturday_and_sunday', 'name': 'Р...</td>\n",
              "      <td>[{'id': 'from_four_to_six_hours_in_a_day', 'na...</td>\n",
              "      <td>[{'id': 'start_after_sixteen', 'name': 'Можно ...</td>\n",
              "      <td>False</td>\n",
              "      <td>[{'id': '132', 'name': 'Учитель, преподаватель...</td>\n",
              "      <td>False</td>\n",
              "      <td>{'id': 'noExperience', 'name': 'Нет опыта'}</td>\n",
              "      <td>{'id': 'part', 'name': 'Частичная занятость'}</td>\n",
              "    </tr>\n",
              "    <tr>\n",
              "      <th>3</th>\n",
              "      <td>79679296</td>\n",
              "      <td>False</td>\n",
              "      <td>Стажер SQL/Python</td>\n",
              "      <td>None</td>\n",
              "      <td>False</td>\n",
              "      <td>True</td>\n",
              "      <td>{'id': '1', 'name': 'Москва', 'url': 'https://...</td>\n",
              "      <td>None</td>\n",
              "      <td>{'id': 'open', 'name': 'Открытая'}</td>\n",
              "      <td>{'city': None, 'street': None, 'building': Non...</td>\n",
              "      <td>...</td>\n",
              "      <td>None</td>\n",
              "      <td>None</td>\n",
              "      <td>[]</td>\n",
              "      <td>[]</td>\n",
              "      <td>[]</td>\n",
              "      <td>False</td>\n",
              "      <td>[{'id': '96', 'name': 'Программист, разработчи...</td>\n",
              "      <td>False</td>\n",
              "      <td>{'id': 'noExperience', 'name': 'Нет опыта'}</td>\n",
              "      <td>{'id': 'part', 'name': 'Частичная занятость'}</td>\n",
              "    </tr>\n",
              "    <tr>\n",
              "      <th>4</th>\n",
              "      <td>80376007</td>\n",
              "      <td>False</td>\n",
              "      <td>Стажер в отдел разработки системного ПО</td>\n",
              "      <td>None</td>\n",
              "      <td>False</td>\n",
              "      <td>False</td>\n",
              "      <td>{'id': '1', 'name': 'Москва', 'url': 'https://...</td>\n",
              "      <td>{'from': 40000, 'to': 40000, 'currency': 'RUR'...</td>\n",
              "      <td>{'id': 'open', 'name': 'Открытая'}</td>\n",
              "      <td>{'city': 'Москва', 'street': 'улица Двинцев', ...</td>\n",
              "      <td>...</td>\n",
              "      <td>None</td>\n",
              "      <td>None</td>\n",
              "      <td>[]</td>\n",
              "      <td>[]</td>\n",
              "      <td>[]</td>\n",
              "      <td>False</td>\n",
              "      <td>[{'id': '96', 'name': 'Программист, разработчи...</td>\n",
              "      <td>False</td>\n",
              "      <td>{'id': 'noExperience', 'name': 'Нет опыта'}</td>\n",
              "      <td>{'id': 'probation', 'name': 'Стажировка'}</td>\n",
              "    </tr>\n",
              "    <tr>\n",
              "      <th>5</th>\n",
              "      <td>80253990</td>\n",
              "      <td>False</td>\n",
              "      <td>Data scientist (intern)</td>\n",
              "      <td>None</td>\n",
              "      <td>False</td>\n",
              "      <td>False</td>\n",
              "      <td>{'id': '1', 'name': 'Москва', 'url': 'https://...</td>\n",
              "      <td>None</td>\n",
              "      <td>{'id': 'open', 'name': 'Открытая'}</td>\n",
              "      <td>{'city': 'Москва', 'street': 'Варшавское шоссе...</td>\n",
              "      <td>...</td>\n",
              "      <td>None</td>\n",
              "      <td>None</td>\n",
              "      <td>[]</td>\n",
              "      <td>[{'id': 'from_four_to_six_hours_in_a_day', 'na...</td>\n",
              "      <td>[]</td>\n",
              "      <td>True</td>\n",
              "      <td>[{'id': '165', 'name': 'Дата-сайентист'}]</td>\n",
              "      <td>False</td>\n",
              "      <td>{'id': 'noExperience', 'name': 'Нет опыта'}</td>\n",
              "      <td>{'id': 'probation', 'name': 'Стажировка'}</td>\n",
              "    </tr>\n",
              "    <tr>\n",
              "      <th>6</th>\n",
              "      <td>79526414</td>\n",
              "      <td>False</td>\n",
              "      <td>Стажер-разработчик</td>\n",
              "      <td>None</td>\n",
              "      <td>False</td>\n",
              "      <td>False</td>\n",
              "      <td>{'id': '1', 'name': 'Москва', 'url': 'https://...</td>\n",
              "      <td>None</td>\n",
              "      <td>{'id': 'open', 'name': 'Открытая'}</td>\n",
              "      <td>None</td>\n",
              "      <td>...</td>\n",
              "      <td>None</td>\n",
              "      <td>None</td>\n",
              "      <td>[]</td>\n",
              "      <td>[]</td>\n",
              "      <td>[]</td>\n",
              "      <td>False</td>\n",
              "      <td>[{'id': '96', 'name': 'Программист, разработчи...</td>\n",
              "      <td>False</td>\n",
              "      <td>{'id': 'noExperience', 'name': 'Нет опыта'}</td>\n",
              "      <td>{'id': 'probation', 'name': 'Стажировка'}</td>\n",
              "    </tr>\n",
              "    <tr>\n",
              "      <th>7</th>\n",
              "      <td>79169796</td>\n",
              "      <td>False</td>\n",
              "      <td>Стажер - разработчик Python/Аналитик</td>\n",
              "      <td>{'id': '219464-219464-it', 'name': 'Первая Гру...</td>\n",
              "      <td>False</td>\n",
              "      <td>False</td>\n",
              "      <td>{'id': '1', 'name': 'Москва', 'url': 'https://...</td>\n",
              "      <td>None</td>\n",
              "      <td>{'id': 'open', 'name': 'Открытая'}</td>\n",
              "      <td>{'city': 'Москва', 'street': 'Новорязанская ул...</td>\n",
              "      <td>...</td>\n",
              "      <td>None</td>\n",
              "      <td>None</td>\n",
              "      <td>[]</td>\n",
              "      <td>[{'id': 'from_four_to_six_hours_in_a_day', 'na...</td>\n",
              "      <td>[]</td>\n",
              "      <td>False</td>\n",
              "      <td>[{'id': '96', 'name': 'Программист, разработчи...</td>\n",
              "      <td>False</td>\n",
              "      <td>{'id': 'noExperience', 'name': 'Нет опыта'}</td>\n",
              "      <td>{'id': 'probation', 'name': 'Стажировка'}</td>\n",
              "    </tr>\n",
              "    <tr>\n",
              "      <th>8</th>\n",
              "      <td>79742166</td>\n",
              "      <td>False</td>\n",
              "      <td>Программист-стажер Data Scientist/Python</td>\n",
              "      <td>None</td>\n",
              "      <td>True</td>\n",
              "      <td>False</td>\n",
              "      <td>{'id': '1', 'name': 'Москва', 'url': 'https://...</td>\n",
              "      <td>None</td>\n",
              "      <td>{'id': 'open', 'name': 'Открытая'}</td>\n",
              "      <td>{'city': 'Москва', 'street': 'Беговая улица', ...</td>\n",
              "      <td>...</td>\n",
              "      <td>None</td>\n",
              "      <td>None</td>\n",
              "      <td>[]</td>\n",
              "      <td>[]</td>\n",
              "      <td>[]</td>\n",
              "      <td>False</td>\n",
              "      <td>[{'id': '96', 'name': 'Программист, разработчи...</td>\n",
              "      <td>False</td>\n",
              "      <td>{'id': 'noExperience', 'name': 'Нет опыта'}</td>\n",
              "      <td>{'id': 'probation', 'name': 'Стажировка'}</td>\n",
              "    </tr>\n",
              "    <tr>\n",
              "      <th>9</th>\n",
              "      <td>79190614</td>\n",
              "      <td>False</td>\n",
              "      <td>Data Engineering Intern</td>\n",
              "      <td>{'id': '4949-4949-stud', 'name': '«Procter &amp; G...</td>\n",
              "      <td>False</td>\n",
              "      <td>False</td>\n",
              "      <td>{'id': '1', 'name': 'Москва', 'url': 'https://...</td>\n",
              "      <td>{'from': 85000, 'to': None, 'currency': 'RUR',...</td>\n",
              "      <td>{'id': 'open', 'name': 'Открытая'}</td>\n",
              "      <td>{'city': 'Москва', 'street': 'Ленинградское шо...</td>\n",
              "      <td>...</td>\n",
              "      <td>None</td>\n",
              "      <td>None</td>\n",
              "      <td>[]</td>\n",
              "      <td>[]</td>\n",
              "      <td>[]</td>\n",
              "      <td>False</td>\n",
              "      <td>[{'id': '40', 'name': 'Другое'}]</td>\n",
              "      <td>False</td>\n",
              "      <td>{'id': 'noExperience', 'name': 'Нет опыта'}</td>\n",
              "      <td>{'id': 'probation', 'name': 'Стажировка'}</td>\n",
              "    </tr>\n",
              "  </tbody>\n",
              "</table>\n",
              "<p>10 rows × 33 columns</p>\n",
              "</div>"
            ],
            "text/plain": [
              "         id  premium                                               name   \n",
              "0  80464980    False  Педагог по подготовке к школе (учитель младших...  \\\n",
              "1  79739233    False         Преподаватель IT-дисциплин (младшая школа)   \n",
              "2  79111520    False  Преподаватель IT дисциплин (Мытищи, Пушкино, К...   \n",
              "3  79679296    False                                  Стажер SQL/Python   \n",
              "4  80376007    False            Стажер в отдел разработки системного ПО   \n",
              "5  80253990    False                            Data scientist (intern)   \n",
              "6  79526414    False                                 Стажер-разработчик   \n",
              "7  79169796    False               Стажер - разработчик Python/Аналитик   \n",
              "8  79742166    False           Программист-стажер Data Scientist/Python   \n",
              "9  79190614    False                            Data Engineering Intern   \n",
              "\n",
              "                                          department  has_test   \n",
              "0                                               None     False  \\\n",
              "1                                               None     False   \n",
              "2                                               None     False   \n",
              "3                                               None     False   \n",
              "4                                               None     False   \n",
              "5                                               None     False   \n",
              "6                                               None     False   \n",
              "7  {'id': '219464-219464-it', 'name': 'Первая Гру...     False   \n",
              "8                                               None      True   \n",
              "9  {'id': '4949-4949-stud', 'name': '«Procter & G...     False   \n",
              "\n",
              "   response_letter_required   \n",
              "0                     False  \\\n",
              "1                     False   \n",
              "2                     False   \n",
              "3                      True   \n",
              "4                     False   \n",
              "5                     False   \n",
              "6                     False   \n",
              "7                     False   \n",
              "8                     False   \n",
              "9                     False   \n",
              "\n",
              "                                                area   \n",
              "0  {'id': '2034', 'name': 'Красногорск', 'url': '...  \\\n",
              "1  {'id': '1', 'name': 'Москва', 'url': 'https://...   \n",
              "2  {'id': '2041', 'name': 'Мытищи', 'url': 'https...   \n",
              "3  {'id': '1', 'name': 'Москва', 'url': 'https://...   \n",
              "4  {'id': '1', 'name': 'Москва', 'url': 'https://...   \n",
              "5  {'id': '1', 'name': 'Москва', 'url': 'https://...   \n",
              "6  {'id': '1', 'name': 'Москва', 'url': 'https://...   \n",
              "7  {'id': '1', 'name': 'Москва', 'url': 'https://...   \n",
              "8  {'id': '1', 'name': 'Москва', 'url': 'https://...   \n",
              "9  {'id': '1', 'name': 'Москва', 'url': 'https://...   \n",
              "\n",
              "                                              salary   \n",
              "0                                               None  \\\n",
              "1  {'from': None, 'to': 120000, 'currency': 'RUR'...   \n",
              "2  {'from': None, 'to': 120000, 'currency': 'RUR'...   \n",
              "3                                               None   \n",
              "4  {'from': 40000, 'to': 40000, 'currency': 'RUR'...   \n",
              "5                                               None   \n",
              "6                                               None   \n",
              "7                                               None   \n",
              "8                                               None   \n",
              "9  {'from': 85000, 'to': None, 'currency': 'RUR',...   \n",
              "\n",
              "                                 type   \n",
              "0  {'id': 'open', 'name': 'Открытая'}  \\\n",
              "1  {'id': 'open', 'name': 'Открытая'}   \n",
              "2  {'id': 'open', 'name': 'Открытая'}   \n",
              "3  {'id': 'open', 'name': 'Открытая'}   \n",
              "4  {'id': 'open', 'name': 'Открытая'}   \n",
              "5  {'id': 'open', 'name': 'Открытая'}   \n",
              "6  {'id': 'open', 'name': 'Открытая'}   \n",
              "7  {'id': 'open', 'name': 'Открытая'}   \n",
              "8  {'id': 'open', 'name': 'Открытая'}   \n",
              "9  {'id': 'open', 'name': 'Открытая'}   \n",
              "\n",
              "                                             address  ... contacts schedule   \n",
              "0  {'city': 'Красногорск', 'street': 'Успенская у...  ...     None     None  \\\n",
              "1                                               None  ...     None     None   \n",
              "2  {'city': 'Мытищи', 'street': 'Юбилейная улица'...  ...     None     None   \n",
              "3  {'city': None, 'street': None, 'building': Non...  ...     None     None   \n",
              "4  {'city': 'Москва', 'street': 'улица Двинцев', ...  ...     None     None   \n",
              "5  {'city': 'Москва', 'street': 'Варшавское шоссе...  ...     None     None   \n",
              "6                                               None  ...     None     None   \n",
              "7  {'city': 'Москва', 'street': 'Новорязанская ул...  ...     None     None   \n",
              "8  {'city': 'Москва', 'street': 'Беговая улица', ...  ...     None     None   \n",
              "9  {'city': 'Москва', 'street': 'Ленинградское шо...  ...     None     None   \n",
              "\n",
              "                                        working_days   \n",
              "0                                                 []  \\\n",
              "1  [{'id': 'only_saturday_and_sunday', 'name': 'Р...   \n",
              "2  [{'id': 'only_saturday_and_sunday', 'name': 'Р...   \n",
              "3                                                 []   \n",
              "4                                                 []   \n",
              "5                                                 []   \n",
              "6                                                 []   \n",
              "7                                                 []   \n",
              "8                                                 []   \n",
              "9                                                 []   \n",
              "\n",
              "                              working_time_intervals   \n",
              "0                                                 []  \\\n",
              "1  [{'id': 'from_four_to_six_hours_in_a_day', 'na...   \n",
              "2  [{'id': 'from_four_to_six_hours_in_a_day', 'na...   \n",
              "3                                                 []   \n",
              "4                                                 []   \n",
              "5  [{'id': 'from_four_to_six_hours_in_a_day', 'na...   \n",
              "6                                                 []   \n",
              "7  [{'id': 'from_four_to_six_hours_in_a_day', 'na...   \n",
              "8                                                 []   \n",
              "9                                                 []   \n",
              "\n",
              "                                  working_time_modes accept_temporary   \n",
              "0                                                 []            False  \\\n",
              "1                                                 []            False   \n",
              "2  [{'id': 'start_after_sixteen', 'name': 'Можно ...            False   \n",
              "3                                                 []            False   \n",
              "4                                                 []            False   \n",
              "5                                                 []             True   \n",
              "6                                                 []            False   \n",
              "7                                                 []            False   \n",
              "8                                                 []            False   \n",
              "9                                                 []            False   \n",
              "\n",
              "                                  professional_roles   \n",
              "0  [{'id': '132', 'name': 'Учитель, преподаватель...  \\\n",
              "1  [{'id': '132', 'name': 'Учитель, преподаватель...   \n",
              "2  [{'id': '132', 'name': 'Учитель, преподаватель...   \n",
              "3  [{'id': '96', 'name': 'Программист, разработчи...   \n",
              "4  [{'id': '96', 'name': 'Программист, разработчи...   \n",
              "5          [{'id': '165', 'name': 'Дата-сайентист'}]   \n",
              "6  [{'id': '96', 'name': 'Программист, разработчи...   \n",
              "7  [{'id': '96', 'name': 'Программист, разработчи...   \n",
              "8  [{'id': '96', 'name': 'Программист, разработчи...   \n",
              "9                   [{'id': '40', 'name': 'Другое'}]   \n",
              "\n",
              "  accept_incomplete_resumes   \n",
              "0                     False  \\\n",
              "1                     False   \n",
              "2                     False   \n",
              "3                     False   \n",
              "4                     False   \n",
              "5                     False   \n",
              "6                     False   \n",
              "7                     False   \n",
              "8                     False   \n",
              "9                     False   \n",
              "\n",
              "                                          experience   \n",
              "0  {'id': 'between1And3', 'name': 'От 1 года до 3...  \\\n",
              "1        {'id': 'noExperience', 'name': 'Нет опыта'}   \n",
              "2        {'id': 'noExperience', 'name': 'Нет опыта'}   \n",
              "3        {'id': 'noExperience', 'name': 'Нет опыта'}   \n",
              "4        {'id': 'noExperience', 'name': 'Нет опыта'}   \n",
              "5        {'id': 'noExperience', 'name': 'Нет опыта'}   \n",
              "6        {'id': 'noExperience', 'name': 'Нет опыта'}   \n",
              "7        {'id': 'noExperience', 'name': 'Нет опыта'}   \n",
              "8        {'id': 'noExperience', 'name': 'Нет опыта'}   \n",
              "9        {'id': 'noExperience', 'name': 'Нет опыта'}   \n",
              "\n",
              "                                      employment  \n",
              "0  {'id': 'part', 'name': 'Частичная занятость'}  \n",
              "1  {'id': 'part', 'name': 'Частичная занятость'}  \n",
              "2  {'id': 'part', 'name': 'Частичная занятость'}  \n",
              "3  {'id': 'part', 'name': 'Частичная занятость'}  \n",
              "4      {'id': 'probation', 'name': 'Стажировка'}  \n",
              "5      {'id': 'probation', 'name': 'Стажировка'}  \n",
              "6      {'id': 'probation', 'name': 'Стажировка'}  \n",
              "7      {'id': 'probation', 'name': 'Стажировка'}  \n",
              "8      {'id': 'probation', 'name': 'Стажировка'}  \n",
              "9      {'id': 'probation', 'name': 'Стажировка'}  \n",
              "\n",
              "[10 rows x 33 columns]"
            ]
          },
          "execution_count": 269,
          "metadata": {},
          "output_type": "execute_result"
        }
      ],
      "source": [
        "URL = 'https://api.hh.ru/vacancies'\n",
        "data = []\n",
        "def req(params):\n",
        "    pages = requests.get(URL, params).json()['pages']\n",
        "    for page in range(pages):\n",
        "        params['page'] = page\n",
        "        vacancies = requests.get(URL, params).json()['items']\n",
        "        for vac in vacancies:\n",
        "            data.append(vac)\n",
        "\n",
        "params1 = {\n",
        "    'text': \"олимпиадная математика\",\n",
        "    'experience': {\"noExperience\", \"between1And3\"},\n",
        "    'area': [1, 2019],\n",
        "    'page': 0,\n",
        "    'per_page': 10,\n",
        "    'working_time_modes': [{\"max_count\": 3}, {}],\n",
        "    'employment' : 'part'\n",
        "}\n",
        "\n",
        "params2 = {\n",
        "    'text': \"python\",\n",
        "    'experience': \"noExperience\",\n",
        "    'area': 1,\n",
        "    'page': 0,\n",
        "    'per_page': 10,\n",
        "    'employment' : {'probation','part'}\n",
        "}\n",
        "\n",
        "params3 = {\n",
        "    'text': \"game developer\",\n",
        "    'experience': \"noExperience\",\n",
        "    'area': 1,\n",
        "    'page': 0,\n",
        "    'per_page': 10,\n",
        "    'employment' : {'probation','part'}\n",
        "}\n",
        "\n",
        "params4 = {\n",
        "    'text': \"EdTech\",\n",
        "    'experience': \"noExperience\",\n",
        "    'area': 1,\n",
        "    'page': 0,\n",
        "    'per_page': 10,\n",
        "    'employment' : {'probation','part','full'}\n",
        "}\n",
        "\n",
        "params5 = {\n",
        "    'text': \"дегустатор\", # \"протаптыватель тропинок\"\n",
        "    'experience': \"noExperience\",\n",
        "    'area': [1, 2019],\n",
        "    'page': 0,\n",
        "    'per_page': 10,\n",
        "}\n",
        "\n",
        "req(params1)\n",
        "req(params2)\n",
        "req(params3)\n",
        "req(params4)\n",
        "req(params5)\n",
        "df = pd.DataFrame(data)\n",
        "df.head(10)"
      ]
    },
    {
      "attachments": {},
      "cell_type": "markdown",
      "metadata": {
        "id": "g0bdgyNWquuY"
      },
      "source": [
        "(1 балл) Посчитайте сколько всего найдено вакансий:"
      ]
    },
    {
      "cell_type": "code",
      "execution_count": 270,
      "metadata": {
        "id": "lxyXtIs6q5cc"
      },
      "outputs": [
        {
          "data": {
            "text/plain": [
              "121"
            ]
          },
          "execution_count": 270,
          "metadata": {},
          "output_type": "execute_result"
        }
      ],
      "source": [
        "len(df.index)"
      ]
    },
    {
      "attachments": {},
      "cell_type": "markdown",
      "metadata": {
        "id": "wQeULnNyq5wk"
      },
      "source": [
        "(1 балл) Создайте структуру данных, которая будет хранить в себе имя компании и ее координаты (широта и долгота):"
      ]
    },
    {
      "cell_type": "code",
      "execution_count": 271,
      "metadata": {
        "id": "aR501yltVdLm"
      },
      "outputs": [],
      "source": [
        "class Company:\n",
        "    name = \"\"\n",
        "    lat = None\n",
        "    lng = None\n",
        "    def __init__(self, line):\n",
        "        self.name = line['employer']['name']\n",
        "        if line['address'] != None:\n",
        "            self.lat, self.lng = line['address']['lat'], line['address']['lng']"
      ]
    },
    {
      "attachments": {},
      "cell_type": "markdown",
      "metadata": {
        "id": "ccIi3wIvVkG0"
      },
      "source": [
        "(1 балл) Создайте экземпляр этой структуры данных для каждой компании, которая выставила вакансию:"
      ]
    },
    {
      "cell_type": "code",
      "execution_count": 272,
      "metadata": {
        "id": "tR6mYW7jtcCQ"
      },
      "outputs": [],
      "source": [
        "companies = []\n",
        "for line in df.iloc:\n",
        "  companies.append(Company(line))\n",
        "\n"
      ]
    },
    {
      "attachments": {},
      "cell_type": "markdown",
      "metadata": {
        "id": "SyBpNd0vtcNu"
      },
      "source": [
        "(1 балл) Найдите количество вакансий, у которых заданы координаты (значения данных может быть пустым):"
      ]
    },
    {
      "cell_type": "code",
      "execution_count": 273,
      "metadata": {
        "id": "lVgNCVALt2qJ"
      },
      "outputs": [
        {
          "data": {
            "text/plain": [
              "47"
            ]
          },
          "execution_count": 273,
          "metadata": {},
          "output_type": "execute_result"
        }
      ],
      "source": [
        "ans = 0\n",
        "for comp in companies:\n",
        "    if comp.lat != None and comp.lng != None:\n",
        "        ans+=1\n",
        "ans"
      ]
    },
    {
      "attachments": {},
      "cell_type": "markdown",
      "metadata": {
        "id": "aWNXrM-cu5Vi"
      },
      "source": [
        "(1 балл) Отберите вакансии, которые расположены в пределах МКАД (можно грубо):"
      ]
    },
    {
      "cell_type": "code",
      "execution_count": 274,
      "metadata": {
        "id": "01g9wVEyyn-J"
      },
      "outputs": [],
      "source": [
        "# your code here"
      ]
    },
    {
      "attachments": {},
      "cell_type": "markdown",
      "metadata": {
        "id": "4LCb9IL_bgB_"
      },
      "source": [
        "(1 балл) Постройте график в координатах \"широта-долгота\" для отображения вакансий внутри МКАД (не забывайте прописать прозрачность, чтобы увидеть скопления):"
      ]
    },
    {
      "cell_type": "code",
      "execution_count": 275,
      "metadata": {
        "id": "6ogiXDvKcDV8"
      },
      "outputs": [],
      "source": [
        "# your code here"
      ]
    },
    {
      "attachments": {},
      "cell_type": "markdown",
      "metadata": {
        "id": "YvS8b7eqt214"
      },
      "source": [
        "(1 балл) Нанесите все точки вакансий на карту (для этого вам поможет данная <a target=\"_blank\" href=\"https://plotly.com/python/mapbox-layers/\">документации</a>, не забудьте про прозрачность и центрирование по Москве): "
      ]
    },
    {
      "cell_type": "code",
      "execution_count": 276,
      "metadata": {
        "id": "1ceHEBdAys8o"
      },
      "outputs": [],
      "source": [
        "# your code here"
      ]
    },
    {
      "attachments": {},
      "cell_type": "markdown",
      "metadata": {
        "id": "u-p3Llc361PN"
      },
      "source": [
        "(2 балла) **Сделайте выводы о проделанной работе:**"
      ]
    },
    {
      "attachments": {},
      "cell_type": "markdown",
      "metadata": {
        "id": "G1c3d-qALobz"
      },
      "source": [
        ">*Подсказки для маленьких: Что вы можете сказать про районы Москвы? Что вы можете сказать про зарплаты? Что вы можете сказать про спрос?*"
      ]
    },
    {
      "attachments": {},
      "cell_type": "markdown",
      "metadata": {
        "id": "gkPpbtBuVqwc"
      },
      "source": [
        "Ваши выводы здесь :)"
      ]
    },
    {
      "attachments": {},
      "cell_type": "markdown",
      "metadata": {
        "id": "wVcCTF_Zz58q"
      },
      "source": [
        "## Задание 2. Анализ данных - 20 баллов"
      ]
    },
    {
      "attachments": {},
      "cell_type": "markdown",
      "metadata": {
        "id": "lii5YFuucxR2"
      },
      "source": [
        "Вам предстоит проанализировать датасет, содержащий информацию об бриллианта, их стоимости и остальных характеристиках."
      ]
    },
    {
      "attachments": {},
      "cell_type": "markdown",
      "metadata": {
        "id": "CvEO3-NI0Gez"
      },
      "source": [
        "\n",
        "\n",
        "Поясним значения хранящиеся в колонках:\n",
        "*   `cut` - огранка бриллианта (относится к одной из примерно 10 наиболее распространенных)\n",
        "*   `color` - цвет бриллианта, прозрачные бриллианты имеют градацию `D-Z`, \"более высокие\" буквы - более желтоватые, но часто имеют лучшие значения, поскольку цвет трудно определить один раз в кольце\n",
        "*   `clarity` - чистота бриллианта, наличие включений (внутренних дефектов), чем меньше и мельче, тем лучше\n",
        "*   `carat_weight` - масса бриллианта (слабо связана с размером бриллианта, т.к. огранка и качество огранки, как правило, играют большую роль)\n",
        "*   `cut_quality` - качество ограники по системе оценки GIA Cut\n",
        "*   `lab` - лаборатория оценивания\n",
        "*   `meas_length` - длина бриллианта\n",
        "*   `meas_width` - ширина бриллианта\n",
        "*   `meas_depth` - глубина бриллианта\n",
        "*   `total_sales_price` - цена бриллианта в долларах.\n",
        "*    **и прочие колонки**"
      ]
    },
    {
      "attachments": {},
      "cell_type": "markdown",
      "metadata": {
        "id": "7mK1QntN6ZXh"
      },
      "source": [
        "Скачаем данные:"
      ]
    },
    {
      "cell_type": "code",
      "execution_count": 277,
      "metadata": {
        "id": "LnCK3gCoebjw"
      },
      "outputs": [
        {
          "name": "stderr",
          "output_type": "stream",
          "text": [
            "\"gdown\" �� ���� ����७��� ��� ���譥�\n",
            "��������, �ᯮ��塞�� �ணࠬ��� ��� ������ 䠩���.\n"
          ]
        }
      ],
      "source": [
        "!gdown 1uIWeZFz3ElB5p1brBVEwJBHTbjXNPdfU"
      ]
    },
    {
      "attachments": {},
      "cell_type": "markdown",
      "metadata": {
        "id": "wfSqVYoIfi3-"
      },
      "source": [
        "Создадим DataFrame:"
      ]
    },
    {
      "cell_type": "code",
      "execution_count": 278,
      "metadata": {
        "id": "cDgRJzRp6Ow4"
      },
      "outputs": [],
      "source": [
        "diamonds = pd.read_csv(\"diamonds.csv\")"
      ]
    },
    {
      "attachments": {},
      "cell_type": "markdown",
      "metadata": {
        "id": "vlw_3lXG6bhv"
      },
      "source": [
        "(0.5 балла) Выведете первые 5 строк датасета:"
      ]
    },
    {
      "cell_type": "code",
      "execution_count": 279,
      "metadata": {
        "id": "gHA-AnSE6fth"
      },
      "outputs": [
        {
          "data": {
            "text/html": [
              "<div>\n",
              "<style scoped>\n",
              "    .dataframe tbody tr th:only-of-type {\n",
              "        vertical-align: middle;\n",
              "    }\n",
              "\n",
              "    .dataframe tbody tr th {\n",
              "        vertical-align: top;\n",
              "    }\n",
              "\n",
              "    .dataframe thead th {\n",
              "        text-align: right;\n",
              "    }\n",
              "</style>\n",
              "<table border=\"1\" class=\"dataframe\">\n",
              "  <thead>\n",
              "    <tr style=\"text-align: right;\">\n",
              "      <th></th>\n",
              "      <th>Unnamed: 0</th>\n",
              "      <th>cut</th>\n",
              "      <th>color</th>\n",
              "      <th>clarity</th>\n",
              "      <th>carat_weight</th>\n",
              "      <th>cut_quality</th>\n",
              "      <th>lab</th>\n",
              "      <th>symmetry</th>\n",
              "      <th>polish</th>\n",
              "      <th>eye_clean</th>\n",
              "      <th>...</th>\n",
              "      <th>meas_depth</th>\n",
              "      <th>girdle_min</th>\n",
              "      <th>girdle_max</th>\n",
              "      <th>fluor_color</th>\n",
              "      <th>fluor_intensity</th>\n",
              "      <th>fancy_color_dominant_color</th>\n",
              "      <th>fancy_color_secondary_color</th>\n",
              "      <th>fancy_color_overtone</th>\n",
              "      <th>fancy_color_intensity</th>\n",
              "      <th>total_sales_price</th>\n",
              "    </tr>\n",
              "  </thead>\n",
              "  <tbody>\n",
              "    <tr>\n",
              "      <th>0</th>\n",
              "      <td>0</td>\n",
              "      <td>Round</td>\n",
              "      <td>E</td>\n",
              "      <td>VVS2</td>\n",
              "      <td>0.09</td>\n",
              "      <td>Excellent</td>\n",
              "      <td>IGI</td>\n",
              "      <td>Very Good</td>\n",
              "      <td>Very Good</td>\n",
              "      <td>unknown</td>\n",
              "      <td>...</td>\n",
              "      <td>1.79</td>\n",
              "      <td>M</td>\n",
              "      <td>M</td>\n",
              "      <td>unknown</td>\n",
              "      <td>NaN</td>\n",
              "      <td>unknown</td>\n",
              "      <td>unknown</td>\n",
              "      <td>unknown</td>\n",
              "      <td>unknown</td>\n",
              "      <td>200</td>\n",
              "    </tr>\n",
              "    <tr>\n",
              "      <th>1</th>\n",
              "      <td>1</td>\n",
              "      <td>Round</td>\n",
              "      <td>E</td>\n",
              "      <td>VVS2</td>\n",
              "      <td>0.09</td>\n",
              "      <td>Very Good</td>\n",
              "      <td>IGI</td>\n",
              "      <td>Very Good</td>\n",
              "      <td>Very Good</td>\n",
              "      <td>unknown</td>\n",
              "      <td>...</td>\n",
              "      <td>1.78</td>\n",
              "      <td>STK</td>\n",
              "      <td>STK</td>\n",
              "      <td>unknown</td>\n",
              "      <td>NaN</td>\n",
              "      <td>unknown</td>\n",
              "      <td>unknown</td>\n",
              "      <td>unknown</td>\n",
              "      <td>unknown</td>\n",
              "      <td>200</td>\n",
              "    </tr>\n",
              "    <tr>\n",
              "      <th>2</th>\n",
              "      <td>2</td>\n",
              "      <td>Round</td>\n",
              "      <td>E</td>\n",
              "      <td>VVS2</td>\n",
              "      <td>0.09</td>\n",
              "      <td>Excellent</td>\n",
              "      <td>IGI</td>\n",
              "      <td>Very Good</td>\n",
              "      <td>Very Good</td>\n",
              "      <td>unknown</td>\n",
              "      <td>...</td>\n",
              "      <td>1.77</td>\n",
              "      <td>TN</td>\n",
              "      <td>M</td>\n",
              "      <td>unknown</td>\n",
              "      <td>NaN</td>\n",
              "      <td>unknown</td>\n",
              "      <td>unknown</td>\n",
              "      <td>unknown</td>\n",
              "      <td>unknown</td>\n",
              "      <td>200</td>\n",
              "    </tr>\n",
              "    <tr>\n",
              "      <th>3</th>\n",
              "      <td>3</td>\n",
              "      <td>Round</td>\n",
              "      <td>E</td>\n",
              "      <td>VVS2</td>\n",
              "      <td>0.09</td>\n",
              "      <td>Excellent</td>\n",
              "      <td>IGI</td>\n",
              "      <td>Very Good</td>\n",
              "      <td>Very Good</td>\n",
              "      <td>unknown</td>\n",
              "      <td>...</td>\n",
              "      <td>1.78</td>\n",
              "      <td>M</td>\n",
              "      <td>STK</td>\n",
              "      <td>unknown</td>\n",
              "      <td>NaN</td>\n",
              "      <td>unknown</td>\n",
              "      <td>unknown</td>\n",
              "      <td>unknown</td>\n",
              "      <td>unknown</td>\n",
              "      <td>200</td>\n",
              "    </tr>\n",
              "    <tr>\n",
              "      <th>4</th>\n",
              "      <td>4</td>\n",
              "      <td>Round</td>\n",
              "      <td>E</td>\n",
              "      <td>VVS2</td>\n",
              "      <td>0.09</td>\n",
              "      <td>Very Good</td>\n",
              "      <td>IGI</td>\n",
              "      <td>Very Good</td>\n",
              "      <td>Excellent</td>\n",
              "      <td>unknown</td>\n",
              "      <td>...</td>\n",
              "      <td>1.82</td>\n",
              "      <td>STK</td>\n",
              "      <td>STK</td>\n",
              "      <td>unknown</td>\n",
              "      <td>NaN</td>\n",
              "      <td>unknown</td>\n",
              "      <td>unknown</td>\n",
              "      <td>unknown</td>\n",
              "      <td>unknown</td>\n",
              "      <td>200</td>\n",
              "    </tr>\n",
              "  </tbody>\n",
              "</table>\n",
              "<p>5 rows × 26 columns</p>\n",
              "</div>"
            ],
            "text/plain": [
              "   Unnamed: 0    cut color clarity  carat_weight cut_quality  lab   symmetry   \n",
              "0           0  Round     E    VVS2          0.09   Excellent  IGI  Very Good  \\\n",
              "1           1  Round     E    VVS2          0.09   Very Good  IGI  Very Good   \n",
              "2           2  Round     E    VVS2          0.09   Excellent  IGI  Very Good   \n",
              "3           3  Round     E    VVS2          0.09   Excellent  IGI  Very Good   \n",
              "4           4  Round     E    VVS2          0.09   Very Good  IGI  Very Good   \n",
              "\n",
              "      polish eye_clean  ... meas_depth girdle_min  girdle_max  fluor_color   \n",
              "0  Very Good   unknown  ...       1.79          M           M      unknown  \\\n",
              "1  Very Good   unknown  ...       1.78        STK         STK      unknown   \n",
              "2  Very Good   unknown  ...       1.77         TN           M      unknown   \n",
              "3  Very Good   unknown  ...       1.78          M         STK      unknown   \n",
              "4  Excellent   unknown  ...       1.82        STK         STK      unknown   \n",
              "\n",
              "   fluor_intensity  fancy_color_dominant_color  fancy_color_secondary_color   \n",
              "0              NaN                     unknown                      unknown  \\\n",
              "1              NaN                     unknown                      unknown   \n",
              "2              NaN                     unknown                      unknown   \n",
              "3              NaN                     unknown                      unknown   \n",
              "4              NaN                     unknown                      unknown   \n",
              "\n",
              "  fancy_color_overtone fancy_color_intensity total_sales_price  \n",
              "0              unknown               unknown               200  \n",
              "1              unknown               unknown               200  \n",
              "2              unknown               unknown               200  \n",
              "3              unknown               unknown               200  \n",
              "4              unknown               unknown               200  \n",
              "\n",
              "[5 rows x 26 columns]"
            ]
          },
          "execution_count": 279,
          "metadata": {},
          "output_type": "execute_result"
        }
      ],
      "source": [
        "diamonds.head(5)"
      ]
    },
    {
      "attachments": {},
      "cell_type": "markdown",
      "metadata": {
        "id": "gat7bnPQ6fCE"
      },
      "source": [
        "(0.5 балла) Найдите количество бриллиантов всего в данном датасете:"
      ]
    },
    {
      "cell_type": "code",
      "execution_count": 280,
      "metadata": {
        "id": "-9x6z3-J7C-v"
      },
      "outputs": [
        {
          "data": {
            "text/plain": [
              "219703"
            ]
          },
          "execution_count": 280,
          "metadata": {},
          "output_type": "execute_result"
        }
      ],
      "source": [
        "len(diamonds)"
      ]
    },
    {
      "attachments": {},
      "cell_type": "markdown",
      "metadata": {
        "id": "fYQuIdtL7DFp"
      },
      "source": [
        "(0.5 балла) Выведите максимальную и минимальную цену бриллианта в формате `номер - цена`:"
      ]
    },
    {
      "cell_type": "code",
      "execution_count": 281,
      "metadata": {
        "id": "D_7sjzjP7SEj"
      },
      "outputs": [
        {
          "name": "stdout",
          "output_type": "stream",
          "text": [
            "0 - 200\n",
            "1 - 200\n",
            "2 - 200\n",
            "3 - 200\n",
            "4 - 200\n",
            "5 - 200\n",
            "6 - 200\n",
            "7 - 200\n",
            "8 - 200\n",
            "9 - 200\n",
            "10 - 200\n",
            "11 - 200\n",
            "12 - 200\n",
            "13 - 200\n",
            "14 - 200\n",
            "15 - 200\n",
            "16 - 200\n",
            "17 - 200\n",
            "18 - 200\n",
            "19 - 200\n",
            "20 - 200\n",
            "21 - 200\n",
            "22 - 200\n",
            "219702 - 1449881\n"
          ]
        }
      ],
      "source": [
        "diamonds_min_and_max = [diamonds['total_sales_price'].min(), diamonds['total_sales_price'].max()]\n",
        "for number_index in range(len(diamonds_min_and_max)):\n",
        "    for i in diamonds[diamonds['total_sales_price'] == diamonds_min_and_max[number_index]].index:\n",
        "        print(i, diamonds.iloc[i]['total_sales_price'], sep = ' - ')\n"
      ]
    },
    {
      "attachments": {},
      "cell_type": "markdown",
      "metadata": {
        "id": "E2mf4IIO7SOg"
      },
      "source": [
        "(1 балл) Посчитайте количество пропусков (пропуском считается значение `unknown` или `None`):"
      ]
    },
    {
      "cell_type": "code",
      "execution_count": 282,
      "metadata": {
        "id": "BuJZ0UoN7qAU"
      },
      "outputs": [
        {
          "data": {
            "text/plain": [
              "1891168"
            ]
          },
          "execution_count": 282,
          "metadata": {},
          "output_type": "execute_result"
        }
      ],
      "source": [
        "ans = 0\n",
        "for name_column in diamonds.columns.values.tolist():\n",
        "     ans += diamonds[name_column].value_counts().get('unknown', 0)\n",
        "ans += diamonds.isnull().sum().sum()\n",
        "ans"
      ]
    },
    {
      "attachments": {},
      "cell_type": "markdown",
      "metadata": {
        "id": "d5LWUc_fh0vb"
      },
      "source": [
        "(1 балл) Найдите в каких столбцах присутствуют пропуски:"
      ]
    },
    {
      "cell_type": "code",
      "execution_count": 283,
      "metadata": {
        "id": "IsU49Fouh5vy"
      },
      "outputs": [
        {
          "name": "stdout",
          "output_type": "stream",
          "text": [
            "cut color clarity carat_weight cut_quality lab symmetry polish eye_clean culet_size culet_condition depth_percent table_percent meas_length meas_width meas_depth girdle_min girdle_max fluor_color fancy_color_dominant_color fancy_color_secondary_color fancy_color_intensity total_sales_price\n"
          ]
        }
      ],
      "source": [
        "quantity_skips = diamonds.isnull().sum()\n",
        "ans = []\n",
        "for name_column in diamonds.columns.values.tolist()[1:]:\n",
        "    if not diamonds[name_column].value_counts().get('unknown', 0) or not quantity_skips[name_column]:\n",
        "      ans.append(name_column)\n",
        "print(*ans)\n",
        "# len(diamonds.columns.values.tolist()) - len(ans) # = 3\n"
      ]
    },
    {
      "attachments": {},
      "cell_type": "markdown",
      "metadata": {
        "id": "UznNZpJ47qGX"
      },
      "source": [
        "В нашем датасете присутствуют колонки, которые начинаются с `fancy_color_` или `fluor_`. Большинство значений в этих колонках - `unknown` или `None`, поэтому мы считаем их малоинформативными. "
      ]
    },
    {
      "attachments": {},
      "cell_type": "markdown",
      "metadata": {
        "id": "Rkk6Hr2Ui87X"
      },
      "source": [
        "Ваша задача:"
      ]
    },
    {
      "attachments": {},
      "cell_type": "markdown",
      "metadata": {
        "id": "YYBDAgSSi-JU"
      },
      "source": [
        "1. (0.5 балла) найти количество таких колонок, которые начинаются с `fancy_color_` или `fluor_`:"
      ]
    },
    {
      "cell_type": "code",
      "execution_count": 284,
      "metadata": {
        "id": "nbTUkk4T8-wO"
      },
      "outputs": [
        {
          "data": {
            "text/plain": [
              "6"
            ]
          },
          "execution_count": 284,
          "metadata": {},
          "output_type": "execute_result"
        }
      ],
      "source": [
        "spec_columns = []\n",
        "for name_column in diamonds.columns.values.tolist():\n",
        "  if name_column.startswith('fancy_color_') or name_column.startswith('fluor_'):\n",
        "    spec_columns.append(name_column)\n",
        "len(spec_columns)"
      ]
    },
    {
      "attachments": {},
      "cell_type": "markdown",
      "metadata": {
        "id": "imop6nNujA6z"
      },
      "source": [
        "2. (0.5 балла) найти количество информативных (не `None` или `unknown`) значений в этих колонках: "
      ]
    },
    {
      "cell_type": "code",
      "execution_count": 285,
      "metadata": {
        "id": "jtJcBwAVjPHU"
      },
      "outputs": [
        {
          "data": {
            "text/plain": [
              "111586"
            ]
          },
          "execution_count": 285,
          "metadata": {},
          "output_type": "execute_result"
        }
      ],
      "source": [
        "ans = 0\n",
        "for name_column in spec_columns:\n",
        "  q = diamonds[name_column].value_counts()\n",
        "  ans += sum(q) - q.get('unknown', 0)\n",
        "ans"
      ]
    },
    {
      "attachments": {},
      "cell_type": "markdown",
      "metadata": {
        "id": "wFbuTnkbjPeq"
      },
      "source": [
        "3. (0.5 балла) удалить данные колонки из датасета, сохранив изменения (в дальнейшем работаем измененным датасетом):"
      ]
    },
    {
      "cell_type": "code",
      "execution_count": 286,
      "metadata": {
        "id": "qSZ5cmKWjutz"
      },
      "outputs": [],
      "source": [
        "# your code here"
      ]
    },
    {
      "attachments": {},
      "cell_type": "markdown",
      "metadata": {
        "id": "JID3q4vr8-2h"
      },
      "source": [
        "(1 балл) Проделайте тоже самое для колонок, начинающихся с `culet_`:"
      ]
    },
    {
      "cell_type": "code",
      "execution_count": 287,
      "metadata": {
        "id": "Wfsvzyad-T6P"
      },
      "outputs": [],
      "source": [
        "# your code here"
      ]
    },
    {
      "attachments": {},
      "cell_type": "markdown",
      "metadata": {
        "id": "7_qYv5Xm-UCz"
      },
      "source": [
        "(1 балл) Посчитайте сколько бы стоил (в тысячах долларов) сейф, в котором хранились бы все бриллианты из датасета:"
      ]
    },
    {
      "cell_type": "code",
      "execution_count": 288,
      "metadata": {
        "id": "g2wVyz5U-cx7"
      },
      "outputs": [],
      "source": [
        "# your code here"
      ]
    },
    {
      "attachments": {},
      "cell_type": "markdown",
      "metadata": {
        "id": "GVwspHrUkRFv"
      },
      "source": [
        "Немного необоснованных манипуляций."
      ]
    },
    {
      "attachments": {},
      "cell_type": "markdown",
      "metadata": {
        "id": "0j5Yr0mFxxfu"
      },
      "source": [
        "(1 балл) Выберите из датасета строки с четными индексами и выведете значения (не меняя нумерацию индексов):"
      ]
    },
    {
      "cell_type": "code",
      "execution_count": 289,
      "metadata": {
        "id": "dW2GOROfx6yd"
      },
      "outputs": [],
      "source": [
        "# your code here"
      ]
    },
    {
      "attachments": {},
      "cell_type": "markdown",
      "metadata": {
        "id": "mNXqS4oox7TF"
      },
      "source": [
        "(0.5 балла) А теперь с индексами, кратными 6:"
      ]
    },
    {
      "cell_type": "code",
      "execution_count": 290,
      "metadata": {
        "id": "hy8LyzXix_SB"
      },
      "outputs": [],
      "source": [
        "# your code here"
      ]
    },
    {
      "attachments": {},
      "cell_type": "markdown",
      "metadata": {
        "id": "u94LL979x_bV"
      },
      "source": [
        "(1 балл) Выберете из датасета только категорильные признаки и выведете датасет:"
      ]
    },
    {
      "cell_type": "code",
      "execution_count": 291,
      "metadata": {
        "id": "2_LBNDWXyOOl"
      },
      "outputs": [],
      "source": [
        "# your code here"
      ]
    },
    {
      "attachments": {},
      "cell_type": "markdown",
      "metadata": {
        "id": "QANg8ziJkHGM"
      },
      "source": [
        ">**Примечание**\n",
        ">\n",
        ">Данный датасет можно использовать для задания 3 (с использованием `sklearn`)"
      ]
    },
    {
      "attachments": {},
      "cell_type": "markdown",
      "metadata": {
        "id": "mV9jLhspyOgz"
      },
      "source": [
        "(0.5 балла) Выберете столбец с данными о цене бриллиантов и домножите его на тот столбец, только транспонированный, и выведите полученную матрицу:"
      ]
    },
    {
      "cell_type": "code",
      "execution_count": 292,
      "metadata": {
        "id": "LawjtnoIymFu"
      },
      "outputs": [],
      "source": [
        "# your code here"
      ]
    },
    {
      "attachments": {},
      "cell_type": "markdown",
      "metadata": {
        "id": "Pz02uapbkbGk"
      },
      "source": [
        "### Построение графиков"
      ]
    },
    {
      "attachments": {},
      "cell_type": "markdown",
      "metadata": {
        "id": "_zhww-rd-c5c"
      },
      "source": [
        "**Требования к графику:**\n",
        "\n",
        "1.   График должен быть подписан\n",
        "2.   Оси должны быть подписаны\n",
        "3.   Должна быть легенда графика\n",
        "4.   График должен быть информативным (желательно без сильных выбросов)\n",
        "\n",
        "**Все надписи на русском языке!**"
      ]
    },
    {
      "attachments": {},
      "cell_type": "markdown",
      "metadata": {
        "id": "mfebCvk0k2mo"
      },
      "source": [
        ">**Примечание**\n",
        ">\n",
        ">График необходимо строить для очищенных данных - в них не должно быть пропусков по осям, по которым строите график. При этом **не перезатирайте** имеющийся датафрейм!"
      ]
    },
    {
      "attachments": {},
      "cell_type": "markdown",
      "metadata": {
        "id": "4R9Rwxdq-l21"
      },
      "source": [
        "(2 балла) Постройте график `цвет бриллианта - стоимость`:"
      ]
    },
    {
      "cell_type": "code",
      "execution_count": 293,
      "metadata": {
        "id": "Fo6I0j5o-vQh"
      },
      "outputs": [],
      "source": [
        "# your code here"
      ]
    },
    {
      "attachments": {},
      "cell_type": "markdown",
      "metadata": {
        "id": "W_UgFji5-vWx"
      },
      "source": [
        "(2 балла) Постройте график `лабараторная оценка - кол-во бриллиантов`:"
      ]
    },
    {
      "cell_type": "code",
      "execution_count": 294,
      "metadata": {
        "id": "nyT8-TRb_c24"
      },
      "outputs": [],
      "source": [
        "# your code here"
      ]
    },
    {
      "attachments": {},
      "cell_type": "markdown",
      "metadata": {
        "id": "AgsMclnJ_c9H"
      },
      "source": [
        "(2 балла) Постройте график `вес бриллианта - стоимость`:"
      ]
    },
    {
      "cell_type": "code",
      "execution_count": 295,
      "metadata": {
        "id": "tn-x3pwmANQe"
      },
      "outputs": [],
      "source": [
        "# your code here"
      ]
    },
    {
      "attachments": {},
      "cell_type": "markdown",
      "metadata": {
        "id": "0LVC1KfEAwuw"
      },
      "source": [
        "(2 балла) Постройте график `система оценки GIA Cut - кол-во бриллиантов`:"
      ]
    },
    {
      "cell_type": "code",
      "execution_count": 296,
      "metadata": {
        "id": "IeuLooSIA232"
      },
      "outputs": [],
      "source": [
        "# your code here"
      ]
    },
    {
      "attachments": {},
      "cell_type": "markdown",
      "metadata": {
        "id": "DRaaNLidFDhL"
      },
      "source": [
        "(2 балла) **Сделайте выводы по построенным графикам:**"
      ]
    },
    {
      "attachments": {},
      "cell_type": "markdown",
      "metadata": {
        "id": "GSuWCfdGLtn0"
      },
      "source": [
        ">*Подсказка для маленьких: Что вы можете сказать о графиках полученных выше для данного датасета?*"
      ]
    },
    {
      "attachments": {},
      "cell_type": "markdown",
      "metadata": {
        "id": "iNdjR_X9lSt1"
      },
      "source": [
        "Ваши выводы здесь :)"
      ]
    },
    {
      "attachments": {},
      "cell_type": "markdown",
      "metadata": {
        "id": "JKYRkX_rBxxu"
      },
      "source": [
        "## Задание 3. Модель - 30 баллов"
      ]
    },
    {
      "attachments": {},
      "cell_type": "markdown",
      "metadata": {
        "id": "EJO9SwpII_uJ"
      },
      "source": [
        "В данном задании вам предстоит построить классифицирующую модель размер алмаза и его стоимости, а затем оценить полученную модель."
      ]
    },
    {
      "attachments": {},
      "cell_type": "markdown",
      "metadata": {
        "id": "_8sA1qlRllrk"
      },
      "source": [
        ">**Примечание**\n",
        ">\n",
        ">Данная модель не претендует на самый верный индикатор стоимости алмаза, ведь мы не учитываем ничего больше чем стоимость алмаза. Исключительно для образовательных целей :)"
      ]
    },
    {
      "attachments": {},
      "cell_type": "markdown",
      "metadata": {
        "id": "e78rVEGFJrVN"
      },
      "source": [
        "Для построения модели нам понадобится 4 столбца, а именно: \n",
        "- `meas_length`\n",
        "- `meas_width`\n",
        "- `meas_depth`\n",
        "- `total_sales_price`\n",
        "\n",
        "От остальных столбцов можно избавиться."
      ]
    },
    {
      "attachments": {},
      "cell_type": "markdown",
      "metadata": {
        "id": "HhpeXcR1l-Ag"
      },
      "source": [
        "(1 балл) Создайте новый датасет и выведите его первые 10 строк: "
      ]
    },
    {
      "cell_type": "code",
      "execution_count": 297,
      "metadata": {
        "id": "K87VXeCxKFrU"
      },
      "outputs": [
        {
          "data": {
            "text/html": [
              "<div>\n",
              "<style scoped>\n",
              "    .dataframe tbody tr th:only-of-type {\n",
              "        vertical-align: middle;\n",
              "    }\n",
              "\n",
              "    .dataframe tbody tr th {\n",
              "        vertical-align: top;\n",
              "    }\n",
              "\n",
              "    .dataframe thead th {\n",
              "        text-align: right;\n",
              "    }\n",
              "</style>\n",
              "<table border=\"1\" class=\"dataframe\">\n",
              "  <thead>\n",
              "    <tr style=\"text-align: right;\">\n",
              "      <th></th>\n",
              "      <th>meas_length</th>\n",
              "      <th>meas_width</th>\n",
              "      <th>meas_depth</th>\n",
              "      <th>total_sales_price</th>\n",
              "    </tr>\n",
              "  </thead>\n",
              "  <tbody>\n",
              "    <tr>\n",
              "      <th>0</th>\n",
              "      <td>2.85</td>\n",
              "      <td>2.87</td>\n",
              "      <td>1.79</td>\n",
              "      <td>200</td>\n",
              "    </tr>\n",
              "    <tr>\n",
              "      <th>1</th>\n",
              "      <td>2.84</td>\n",
              "      <td>2.89</td>\n",
              "      <td>1.78</td>\n",
              "      <td>200</td>\n",
              "    </tr>\n",
              "    <tr>\n",
              "      <th>2</th>\n",
              "      <td>2.88</td>\n",
              "      <td>2.90</td>\n",
              "      <td>1.77</td>\n",
              "      <td>200</td>\n",
              "    </tr>\n",
              "    <tr>\n",
              "      <th>3</th>\n",
              "      <td>2.86</td>\n",
              "      <td>2.88</td>\n",
              "      <td>1.78</td>\n",
              "      <td>200</td>\n",
              "    </tr>\n",
              "    <tr>\n",
              "      <th>4</th>\n",
              "      <td>2.79</td>\n",
              "      <td>2.83</td>\n",
              "      <td>1.82</td>\n",
              "      <td>200</td>\n",
              "    </tr>\n",
              "    <tr>\n",
              "      <th>5</th>\n",
              "      <td>2.95</td>\n",
              "      <td>2.99</td>\n",
              "      <td>1.81</td>\n",
              "      <td>200</td>\n",
              "    </tr>\n",
              "    <tr>\n",
              "      <th>6</th>\n",
              "      <td>2.85</td>\n",
              "      <td>2.88</td>\n",
              "      <td>1.84</td>\n",
              "      <td>200</td>\n",
              "    </tr>\n",
              "    <tr>\n",
              "      <th>7</th>\n",
              "      <td>2.86</td>\n",
              "      <td>2.89</td>\n",
              "      <td>1.78</td>\n",
              "      <td>200</td>\n",
              "    </tr>\n",
              "    <tr>\n",
              "      <th>8</th>\n",
              "      <td>2.89</td>\n",
              "      <td>2.92</td>\n",
              "      <td>1.85</td>\n",
              "      <td>200</td>\n",
              "    </tr>\n",
              "    <tr>\n",
              "      <th>9</th>\n",
              "      <td>2.83</td>\n",
              "      <td>2.87</td>\n",
              "      <td>1.80</td>\n",
              "      <td>200</td>\n",
              "    </tr>\n",
              "  </tbody>\n",
              "</table>\n",
              "</div>"
            ],
            "text/plain": [
              "   meas_length  meas_width  meas_depth  total_sales_price\n",
              "0         2.85        2.87        1.79                200\n",
              "1         2.84        2.89        1.78                200\n",
              "2         2.88        2.90        1.77                200\n",
              "3         2.86        2.88        1.78                200\n",
              "4         2.79        2.83        1.82                200\n",
              "5         2.95        2.99        1.81                200\n",
              "6         2.85        2.88        1.84                200\n",
              "7         2.86        2.89        1.78                200\n",
              "8         2.89        2.92        1.85                200\n",
              "9         2.83        2.87        1.80                200"
            ]
          },
          "execution_count": 297,
          "metadata": {},
          "output_type": "execute_result"
        }
      ],
      "source": [
        "dataset = diamonds.drop(columns = list(filter(\n",
        "    lambda x : x not in ['meas_length', 'meas_width', 'meas_depth', 'total_sales_price'],\n",
        "    diamonds.columns.values.tolist())))\n",
        "dataset.head(10)"
      ]
    },
    {
      "attachments": {},
      "cell_type": "markdown",
      "metadata": {
        "id": "Uex8DVspKFxn"
      },
      "source": [
        "(1 балл) Перемешайте строки в датафрейме случайным образом: "
      ]
    },
    {
      "cell_type": "code",
      "execution_count": 298,
      "metadata": {
        "id": "5lRYIwGOKOnT"
      },
      "outputs": [
        {
          "data": {
            "text/html": [
              "<div>\n",
              "<style scoped>\n",
              "    .dataframe tbody tr th:only-of-type {\n",
              "        vertical-align: middle;\n",
              "    }\n",
              "\n",
              "    .dataframe tbody tr th {\n",
              "        vertical-align: top;\n",
              "    }\n",
              "\n",
              "    .dataframe thead th {\n",
              "        text-align: right;\n",
              "    }\n",
              "</style>\n",
              "<table border=\"1\" class=\"dataframe\">\n",
              "  <thead>\n",
              "    <tr style=\"text-align: right;\">\n",
              "      <th></th>\n",
              "      <th>meas_length</th>\n",
              "      <th>meas_width</th>\n",
              "      <th>meas_depth</th>\n",
              "      <th>total_sales_price</th>\n",
              "    </tr>\n",
              "  </thead>\n",
              "  <tbody>\n",
              "    <tr>\n",
              "      <th>125347</th>\n",
              "      <td>5.05</td>\n",
              "      <td>5.07</td>\n",
              "      <td>3.16</td>\n",
              "      <td>2608</td>\n",
              "    </tr>\n",
              "    <tr>\n",
              "      <th>139062</th>\n",
              "      <td>5.52</td>\n",
              "      <td>5.58</td>\n",
              "      <td>3.56</td>\n",
              "      <td>3360</td>\n",
              "    </tr>\n",
              "    <tr>\n",
              "      <th>156708</th>\n",
              "      <td>5.69</td>\n",
              "      <td>5.72</td>\n",
              "      <td>3.47</td>\n",
              "      <td>4223</td>\n",
              "    </tr>\n",
              "    <tr>\n",
              "      <th>28385</th>\n",
              "      <td>4.26</td>\n",
              "      <td>4.30</td>\n",
              "      <td>2.67</td>\n",
              "      <td>798</td>\n",
              "    </tr>\n",
              "    <tr>\n",
              "      <th>38244</th>\n",
              "      <td>4.20</td>\n",
              "      <td>4.22</td>\n",
              "      <td>2.70</td>\n",
              "      <td>852</td>\n",
              "    </tr>\n",
              "    <tr>\n",
              "      <th>...</th>\n",
              "      <td>...</td>\n",
              "      <td>...</td>\n",
              "      <td>...</td>\n",
              "      <td>...</td>\n",
              "    </tr>\n",
              "    <tr>\n",
              "      <th>11980</th>\n",
              "      <td>3.71</td>\n",
              "      <td>3.74</td>\n",
              "      <td>2.24</td>\n",
              "      <td>652</td>\n",
              "    </tr>\n",
              "    <tr>\n",
              "      <th>58190</th>\n",
              "      <td>4.28</td>\n",
              "      <td>4.31</td>\n",
              "      <td>2.71</td>\n",
              "      <td>982</td>\n",
              "    </tr>\n",
              "    <tr>\n",
              "      <th>30171</th>\n",
              "      <td>4.44</td>\n",
              "      <td>4.46</td>\n",
              "      <td>2.80</td>\n",
              "      <td>790</td>\n",
              "    </tr>\n",
              "    <tr>\n",
              "      <th>87755</th>\n",
              "      <td>4.75</td>\n",
              "      <td>4.79</td>\n",
              "      <td>2.96</td>\n",
              "      <td>1286</td>\n",
              "    </tr>\n",
              "    <tr>\n",
              "      <th>46300</th>\n",
              "      <td>4.52</td>\n",
              "      <td>4.53</td>\n",
              "      <td>2.73</td>\n",
              "      <td>900</td>\n",
              "    </tr>\n",
              "  </tbody>\n",
              "</table>\n",
              "<p>219703 rows × 4 columns</p>\n",
              "</div>"
            ],
            "text/plain": [
              "        meas_length  meas_width  meas_depth  total_sales_price\n",
              "125347         5.05        5.07        3.16               2608\n",
              "139062         5.52        5.58        3.56               3360\n",
              "156708         5.69        5.72        3.47               4223\n",
              "28385          4.26        4.30        2.67                798\n",
              "38244          4.20        4.22        2.70                852\n",
              "...             ...         ...         ...                ...\n",
              "11980          3.71        3.74        2.24                652\n",
              "58190          4.28        4.31        2.71                982\n",
              "30171          4.44        4.46        2.80                790\n",
              "87755          4.75        4.79        2.96               1286\n",
              "46300          4.52        4.53        2.73                900\n",
              "\n",
              "[219703 rows x 4 columns]"
            ]
          },
          "execution_count": 298,
          "metadata": {},
          "output_type": "execute_result"
        }
      ],
      "source": [
        "dataset = dataset.sample(frac=1)\n",
        "dataset"
      ]
    },
    {
      "attachments": {},
      "cell_type": "markdown",
      "metadata": {
        "id": "iEHBNONDLl64"
      },
      "source": [
        "(1 балл) Сформируем новую колонку - для каждого бриллианта найдем сумму Минковского (p=3) по 3 измерениям бриллианта:"
      ]
    },
    {
      "cell_type": "code",
      "execution_count": 299,
      "metadata": {
        "id": "V3CTAQbAMQsR"
      },
      "outputs": [
        {
          "data": {
            "text/html": [
              "<div>\n",
              "<style scoped>\n",
              "    .dataframe tbody tr th:only-of-type {\n",
              "        vertical-align: middle;\n",
              "    }\n",
              "\n",
              "    .dataframe tbody tr th {\n",
              "        vertical-align: top;\n",
              "    }\n",
              "\n",
              "    .dataframe thead th {\n",
              "        text-align: right;\n",
              "    }\n",
              "</style>\n",
              "<table border=\"1\" class=\"dataframe\">\n",
              "  <thead>\n",
              "    <tr style=\"text-align: right;\">\n",
              "      <th></th>\n",
              "      <th>meas_length</th>\n",
              "      <th>meas_width</th>\n",
              "      <th>meas_depth</th>\n",
              "      <th>total_sales_price</th>\n",
              "      <th>sum_minkovsky</th>\n",
              "    </tr>\n",
              "  </thead>\n",
              "  <tbody>\n",
              "    <tr>\n",
              "      <th>125347</th>\n",
              "      <td>5.05</td>\n",
              "      <td>5.07</td>\n",
              "      <td>3.16</td>\n",
              "      <td>2608</td>\n",
              "      <td>13.719148</td>\n",
              "    </tr>\n",
              "    <tr>\n",
              "      <th>139062</th>\n",
              "      <td>5.52</td>\n",
              "      <td>5.58</td>\n",
              "      <td>3.56</td>\n",
              "      <td>3360</td>\n",
              "      <td>15.772160</td>\n",
              "    </tr>\n",
              "    <tr>\n",
              "      <th>156708</th>\n",
              "      <td>5.69</td>\n",
              "      <td>5.72</td>\n",
              "      <td>3.47</td>\n",
              "      <td>4223</td>\n",
              "      <td>22.331700</td>\n",
              "    </tr>\n",
              "    <tr>\n",
              "      <th>28385</th>\n",
              "      <td>4.26</td>\n",
              "      <td>4.30</td>\n",
              "      <td>2.67</td>\n",
              "      <td>798</td>\n",
              "      <td>8.350490</td>\n",
              "    </tr>\n",
              "    <tr>\n",
              "      <th>38244</th>\n",
              "      <td>4.20</td>\n",
              "      <td>4.22</td>\n",
              "      <td>2.70</td>\n",
              "      <td>852</td>\n",
              "      <td>6.886816</td>\n",
              "    </tr>\n",
              "    <tr>\n",
              "      <th>118051</th>\n",
              "      <td>4.34</td>\n",
              "      <td>4.17</td>\n",
              "      <td>3.19</td>\n",
              "      <td>2324</td>\n",
              "      <td>2.466980</td>\n",
              "    </tr>\n",
              "    <tr>\n",
              "      <th>49756</th>\n",
              "      <td>4.51</td>\n",
              "      <td>4.53</td>\n",
              "      <td>2.85</td>\n",
              "      <td>934</td>\n",
              "      <td>9.315936</td>\n",
              "    </tr>\n",
              "    <tr>\n",
              "      <th>10435</th>\n",
              "      <td>3.72</td>\n",
              "      <td>3.74</td>\n",
              "      <td>2.30</td>\n",
              "      <td>636</td>\n",
              "      <td>5.849280</td>\n",
              "    </tr>\n",
              "    <tr>\n",
              "      <th>146742</th>\n",
              "      <td>7.93</td>\n",
              "      <td>5.15</td>\n",
              "      <td>2.79</td>\n",
              "      <td>3630</td>\n",
              "      <td>170.425952</td>\n",
              "    </tr>\n",
              "    <tr>\n",
              "      <th>146892</th>\n",
              "      <td>5.68</td>\n",
              "      <td>5.50</td>\n",
              "      <td>3.92</td>\n",
              "      <td>3637</td>\n",
              "      <td>9.401920</td>\n",
              "    </tr>\n",
              "  </tbody>\n",
              "</table>\n",
              "</div>"
            ],
            "text/plain": [
              "        meas_length  meas_width  meas_depth  total_sales_price  sum_minkovsky\n",
              "125347         5.05        5.07        3.16               2608      13.719148\n",
              "139062         5.52        5.58        3.56               3360      15.772160\n",
              "156708         5.69        5.72        3.47               4223      22.331700\n",
              "28385          4.26        4.30        2.67                798       8.350490\n",
              "38244          4.20        4.22        2.70                852       6.886816\n",
              "118051         4.34        4.17        3.19               2324       2.466980\n",
              "49756          4.51        4.53        2.85                934       9.315936\n",
              "10435          3.72        3.74        2.30                636       5.849280\n",
              "146742         7.93        5.15        2.79               3630     170.425952\n",
              "146892         5.68        5.50        3.92               3637       9.401920"
            ]
          },
          "execution_count": 299,
          "metadata": {},
          "output_type": "execute_result"
        }
      ],
      "source": [
        "dataset['sum_minkovsky'] = abs(dataset['meas_length'] - dataset['meas_width'])**3 + abs(dataset['meas_length'] - dataset['meas_depth'])**3 +  abs(dataset['meas_width'] - dataset['meas_depth'])**3\n",
        "dataset.head(10)\n",
        "# почему именно так: https://t.me/c/1554030970/870"
      ]
    },
    {
      "attachments": {},
      "cell_type": "markdown",
      "metadata": {
        "id": "z5s5_yB8n1Hp"
      },
      "source": [
        "(1 балл) Сформируем новый датасет из двух колонок - сумма Минковского и `total_sales_price`: "
      ]
    },
    {
      "cell_type": "code",
      "execution_count": 300,
      "metadata": {
        "id": "tXxZnWS7n9q0"
      },
      "outputs": [
        {
          "data": {
            "text/html": [
              "<div>\n",
              "<style scoped>\n",
              "    .dataframe tbody tr th:only-of-type {\n",
              "        vertical-align: middle;\n",
              "    }\n",
              "\n",
              "    .dataframe tbody tr th {\n",
              "        vertical-align: top;\n",
              "    }\n",
              "\n",
              "    .dataframe thead th {\n",
              "        text-align: right;\n",
              "    }\n",
              "</style>\n",
              "<table border=\"1\" class=\"dataframe\">\n",
              "  <thead>\n",
              "    <tr style=\"text-align: right;\">\n",
              "      <th></th>\n",
              "      <th>total_sales_price</th>\n",
              "      <th>sum_minkovsky</th>\n",
              "    </tr>\n",
              "  </thead>\n",
              "  <tbody>\n",
              "    <tr>\n",
              "      <th>125347</th>\n",
              "      <td>2608</td>\n",
              "      <td>13.719148</td>\n",
              "    </tr>\n",
              "    <tr>\n",
              "      <th>139062</th>\n",
              "      <td>3360</td>\n",
              "      <td>15.772160</td>\n",
              "    </tr>\n",
              "    <tr>\n",
              "      <th>156708</th>\n",
              "      <td>4223</td>\n",
              "      <td>22.331700</td>\n",
              "    </tr>\n",
              "    <tr>\n",
              "      <th>28385</th>\n",
              "      <td>798</td>\n",
              "      <td>8.350490</td>\n",
              "    </tr>\n",
              "    <tr>\n",
              "      <th>38244</th>\n",
              "      <td>852</td>\n",
              "      <td>6.886816</td>\n",
              "    </tr>\n",
              "    <tr>\n",
              "      <th>118051</th>\n",
              "      <td>2324</td>\n",
              "      <td>2.466980</td>\n",
              "    </tr>\n",
              "    <tr>\n",
              "      <th>49756</th>\n",
              "      <td>934</td>\n",
              "      <td>9.315936</td>\n",
              "    </tr>\n",
              "    <tr>\n",
              "      <th>10435</th>\n",
              "      <td>636</td>\n",
              "      <td>5.849280</td>\n",
              "    </tr>\n",
              "    <tr>\n",
              "      <th>146742</th>\n",
              "      <td>3630</td>\n",
              "      <td>170.425952</td>\n",
              "    </tr>\n",
              "    <tr>\n",
              "      <th>146892</th>\n",
              "      <td>3637</td>\n",
              "      <td>9.401920</td>\n",
              "    </tr>\n",
              "  </tbody>\n",
              "</table>\n",
              "</div>"
            ],
            "text/plain": [
              "        total_sales_price  sum_minkovsky\n",
              "125347               2608      13.719148\n",
              "139062               3360      15.772160\n",
              "156708               4223      22.331700\n",
              "28385                 798       8.350490\n",
              "38244                 852       6.886816\n",
              "118051               2324       2.466980\n",
              "49756                 934       9.315936\n",
              "10435                 636       5.849280\n",
              "146742               3630     170.425952\n",
              "146892               3637       9.401920"
            ]
          },
          "execution_count": 300,
          "metadata": {},
          "output_type": "execute_result"
        }
      ],
      "source": [
        "new_dataset = dataset.drop(columns = ['meas_length','meas_width',\t'meas_depth'])\n",
        "new_dataset.head(10)"
      ]
    },
    {
      "attachments": {},
      "cell_type": "markdown",
      "metadata": {
        "id": "aXCp0GmUKOvM"
      },
      "source": [
        "(1 балл) Разделите вашу выборку на две части в соотношении 8:2 - одна выборка будет для тренировка, а другая для тестов вашей модели:"
      ]
    },
    {
      "cell_type": "code",
      "execution_count": 301,
      "metadata": {
        "id": "rxwHhdnFK3Lz"
      },
      "outputs": [],
      "source": [
        "# your code here"
      ]
    },
    {
      "attachments": {},
      "cell_type": "markdown",
      "metadata": {
        "id": "lhuRoIMRK3S3"
      },
      "source": [
        "(2 балла) Постройте график зависимости стоимости от вашего нового параметра размера для тренинг-выборки:"
      ]
    },
    {
      "cell_type": "code",
      "execution_count": 302,
      "metadata": {
        "id": "zdXv0wimNNZq"
      },
      "outputs": [],
      "source": [
        "# your code here"
      ]
    },
    {
      "attachments": {},
      "cell_type": "markdown",
      "metadata": {
        "id": "0cUx_FSiNOUx"
      },
      "source": [
        "(2 балла) Нанесите на тот же график тестовую выборку, используя другой цвет (не забудьте про параметр прозрачности):"
      ]
    },
    {
      "cell_type": "code",
      "execution_count": 303,
      "metadata": {
        "id": "R09w4W7VNnM2"
      },
      "outputs": [],
      "source": [
        "# your code here"
      ]
    },
    {
      "attachments": {},
      "cell_type": "markdown",
      "metadata": {
        "id": "VwIIccnpNnVj"
      },
      "source": [
        "(3 балла) Найдите для каждой бриллианта из тестовой выборки его \"ближайшего соседа\" из тренинг-выборки. Для каждого бриллианта из тестовой выборки найдите расстояния до соответствующего ближайшего соседа:"
      ]
    },
    {
      "cell_type": "code",
      "execution_count": 304,
      "metadata": {
        "id": "t_jpKJ54OBb0"
      },
      "outputs": [],
      "source": [
        "# your code here"
      ]
    },
    {
      "attachments": {},
      "cell_type": "markdown",
      "metadata": {
        "id": "7R0uaHqurV_u"
      },
      "source": [
        "(3 балла) Найдите насколько сильно (в процентах) отличается цена бриллиантов из тестовой выборки от их соответствующих ближайших соседей:"
      ]
    },
    {
      "cell_type": "code",
      "execution_count": null,
      "metadata": {
        "id": "Uy2ngWJ4rn-4"
      },
      "outputs": [],
      "source": [
        "# your code here"
      ]
    },
    {
      "attachments": {},
      "cell_type": "markdown",
      "metadata": {
        "id": "tl0CHY6_OAxU"
      },
      "source": [
        "**Данная модель является выдумкой автора. Не важен коэффициент ошибки, важны ваши шаги для получения коэффициента.**"
      ]
    },
    {
      "attachments": {},
      "cell_type": "markdown",
      "metadata": {
        "id": "AbrAdKSUrqz5"
      },
      "source": [
        "### Введение в машинное обучение"
      ]
    },
    {
      "attachments": {},
      "cell_type": "markdown",
      "metadata": {
        "id": "I6sqXZLYuox4"
      },
      "source": [
        "Теперь давайте познакомимся с таким сильным инструментом как `sklearn`."
      ]
    },
    {
      "attachments": {},
      "cell_type": "markdown",
      "metadata": {
        "id": "q4OpdbhwsuAX"
      },
      "source": [
        "Вам необходимо:\n",
        "1. выбрать 2 категориальных признака\n",
        "2. на их основе обучить решающее дерево\n",
        "3. оценить среднеквадратичную ошибку цены бриллианта\n",
        "4. сделать пп. 1-3 и выбрать ту пару, которая дает лучший результат\n",
        "5. сделать выводы"
      ]
    },
    {
      "attachments": {},
      "cell_type": "markdown",
      "metadata": {
        "id": "rScraaVSxQlT"
      },
      "source": [
        "(3 балла) Мы работаем с категориальными признаками, для них не понятно что есть \"больше\" и \"меньше\". Поэтому нам нужно предварительно закодировать значения наших признаков, с чем нам поможет [OneHotEncoder](https://scikit-learn.org/stable/modules/generated/sklearn.preprocessing.OneHotEncoder.html):"
      ]
    },
    {
      "cell_type": "code",
      "execution_count": null,
      "metadata": {
        "id": "G8hDstLlxjry"
      },
      "outputs": [],
      "source": [
        "# your code here"
      ]
    },
    {
      "attachments": {},
      "cell_type": "markdown",
      "metadata": {
        "id": "ig8t-nmRvojA"
      },
      "source": [
        "(3 балла) Разбейте датасет на обучающую и тестовую выбору. Для этого вам поможет [train_test_split](https://scikit-learn.org/stable/modules/generated/sklearn.model_selection.train_test_split.html):"
      ]
    },
    {
      "cell_type": "code",
      "execution_count": null,
      "metadata": {
        "id": "ChVKP43AwY8i"
      },
      "outputs": [],
      "source": [
        "# your code here"
      ]
    },
    {
      "attachments": {},
      "cell_type": "markdown",
      "metadata": {
        "id": "gbv2zLpkwZsq"
      },
      "source": [
        "(3 балла) Затем создайте и обучите вашу модель - [DecisionTreeRegressor](https://scikit-learn.org/stable/modules/generated/sklearn.tree.DecisionTreeRegressor.html):"
      ]
    },
    {
      "cell_type": "code",
      "execution_count": null,
      "metadata": {
        "id": "Qfvv2j6Sws8p"
      },
      "outputs": [],
      "source": [
        "# your code here"
      ]
    },
    {
      "attachments": {},
      "cell_type": "markdown",
      "metadata": {
        "id": "nUvBoY1pwtIv"
      },
      "source": [
        "(3 балла) Оцените ошибку вашей модели при помощи [mean_squared_error](https://scikit-learn.org/stable/modules/generated/sklearn.metrics.mean_squared_error.html):"
      ]
    },
    {
      "cell_type": "code",
      "execution_count": null,
      "metadata": {
        "id": "q946oHPaxGA4"
      },
      "outputs": [],
      "source": [
        "# your code here"
      ]
    },
    {
      "attachments": {},
      "cell_type": "markdown",
      "metadata": {
        "id": "scWwHLEKxGPl"
      },
      "source": [
        "(3 балла) **Сделайте выводы какие категориальные признаки лучше:**"
      ]
    },
    {
      "attachments": {},
      "cell_type": "markdown",
      "metadata": {
        "id": "djE6Ke2bL5WS"
      },
      "source": [
        "*Подсказки для маленьких: Что вы можете сказать о зависимости по вашей выборке признаков? Какой вы можете сделать вывод об готовых инструментах для работы и написанных Вами?*"
      ]
    },
    {
      "attachments": {},
      "cell_type": "markdown",
      "metadata": {
        "id": "lu36_N58uvui"
      },
      "source": [
        "Ваши выводы здесь :)"
      ]
    }
  ],
  "metadata": {
    "colab": {
      "provenance": []
    },
    "kernelspec": {
      "display_name": "Python 3",
      "name": "python3"
    },
    "language_info": {
      "codemirror_mode": {
        "name": "ipython",
        "version": 3
      },
      "file_extension": ".py",
      "mimetype": "text/x-python",
      "name": "python",
      "nbconvert_exporter": "python",
      "pygments_lexer": "ipython3",
      "version": "3.10.10"
    }
  },
  "nbformat": 4,
  "nbformat_minor": 0
}
